{
 "cells": [
  {
   "cell_type": "code",
   "execution_count": 8,
   "metadata": {},
   "outputs": [],
   "source": [
    "with open ('input.txt', 'r') as f:\n",
    "    input = f.readlines()\n",
    "input = [each.strip('\\n') for each in input]"
   ]
  },
  {
   "cell_type": "code",
   "execution_count": 98,
   "metadata": {},
   "outputs": [],
   "source": [
    "def overlap(input):\n",
    "    res = input.split(',')\n",
    "    x = set(range(int(res[0].split('-')[0]),int(res[0].split('-')[1])+1))\n",
    "    y  = set(range(int(res[1].split('-')[0]),int(res[1].split('-')[1])+1))\n",
    "    result = x.intersection(y)\n",
    "    return True if result in [x,y] else False\n",
    "\n",
    "def overlap2(input):\n",
    "    res = input.split(',')\n",
    "    x = set(range(int(res[0].split('-')[0]),int(res[0].split('-')[1])+1))\n",
    "    y  = set(range(int(res[1].split('-')[0]),int(res[1].split('-')[1])+1))\n",
    "    result = x.intersection(y)\n",
    "    return True if len(result) > 0 else False"
   ]
  },
  {
   "cell_type": "code",
   "execution_count": 99,
   "metadata": {},
   "outputs": [
    {
     "data": {
      "text/plain": [
       "487"
      ]
     },
     "execution_count": 99,
     "metadata": {},
     "output_type": "execute_result"
    }
   ],
   "source": [
    "len([each for each in input if overlap(each) == 1])"
   ]
  },
  {
   "cell_type": "code",
   "execution_count": 100,
   "metadata": {},
   "outputs": [
    {
     "data": {
      "text/plain": [
       "849"
      ]
     },
     "execution_count": 100,
     "metadata": {},
     "output_type": "execute_result"
    }
   ],
   "source": [
    "len([each for each in input if overlap2(each) == 1])"
   ]
  },
  {
   "cell_type": "code",
   "execution_count": null,
   "metadata": {},
   "outputs": [],
   "source": []
  }
 ],
 "metadata": {
  "kernelspec": {
   "display_name": "Python 3.8.12 64-bit ('shims')",
   "language": "python",
   "name": "python3"
  },
  "language_info": {
   "codemirror_mode": {
    "name": "ipython",
    "version": 3
   },
   "file_extension": ".py",
   "mimetype": "text/x-python",
   "name": "python",
   "nbconvert_exporter": "python",
   "pygments_lexer": "ipython3",
   "version": "3.8.12"
  },
  "orig_nbformat": 4,
  "vscode": {
   "interpreter": {
    "hash": "211a611e43ffd387bc3358f70c1c5270b1aa46258f0eba691e4a5432226d839e"
   }
  }
 },
 "nbformat": 4,
 "nbformat_minor": 2
}
